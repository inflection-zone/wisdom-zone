{
 "cells": [
  {
   "cell_type": "markdown",
   "id": "f0f86300",
   "metadata": {},
   "source": [
    "### Importing Dependencies"
   ]
  },
  {
   "cell_type": "code",
   "execution_count": 2,
   "id": "e4363e85",
   "metadata": {},
   "outputs": [
    {
     "name": "stdout",
     "output_type": "stream",
     "text": [
      "Requirement already satisfied: opencv-python in e:\\tensorflow object detection\\tfod course\\tfod\\lib\\site-packages (4.7.0.68)\n",
      "Requirement already satisfied: numpy>=1.17.3 in e:\\tensorflow object detection\\tfod course\\tfod\\lib\\site-packages (from opencv-python) (1.24.1)\n"
     ]
    }
   ],
   "source": [
    "!pip install opencv-python"
   ]
  },
  {
   "cell_type": "code",
   "execution_count": 3,
   "id": "bd0f8f16",
   "metadata": {},
   "outputs": [],
   "source": [
    "import cv2\n",
    "\n",
    "import uuid      # unique identifier : helps to name the  images uniquely\n",
    "\n",
    "import os        # operating system\n",
    "\n",
    "import time "
   ]
  },
  {
   "cell_type": "markdown",
   "id": "5004217a",
   "metadata": {},
   "source": [
    "### Defining labels of images"
   ]
  },
  {
   "cell_type": "code",
   "execution_count": 7,
   "id": "8cf4888e",
   "metadata": {},
   "outputs": [],
   "source": [
    "labels = ['apple','orange','banana']"
   ]
  },
  {
   "cell_type": "code",
   "execution_count": 4,
   "id": "ec67c01b",
   "metadata": {},
   "outputs": [],
   "source": [
    "IMAGES_PATH = os.path.join('Tensorflow','workspace','images','collectedimages')"
   ]
  },
  {
   "cell_type": "code",
   "execution_count": 9,
   "id": "a67ff691",
   "metadata": {},
   "outputs": [],
   "source": [
    "# mkdir makes the directory if it does not exists\n",
    "\n",
    "if not os.path.exists(IMAGES_PATH):\n",
    "    !mkdir {IMAGES_PATH}\n",
    "    \n",
    "# in the collectedimages dir, we will make a folder of each label\n",
    "    \n",
    "for label in labels:\n",
    "    path = os.path.join(IMAGES_PATH, label)\n",
    "    if not os.path.exists(path):\n",
    "        !mkdir {path}"
   ]
  },
  {
   "cell_type": "markdown",
   "id": "b9c69e13",
   "metadata": {},
   "source": [
    "### Image Labelling"
   ]
  },
  {
   "cell_type": "code",
   "execution_count": 11,
   "id": "cdeedf22",
   "metadata": {},
   "outputs": [
    {
     "name": "stdout",
     "output_type": "stream",
     "text": [
      "Collecting pyqt5\n",
      "  Downloading PyQt5-5.15.7-cp37-abi3-win_amd64.whl (6.8 MB)\n",
      "     ---------------------------------------- 6.8/6.8 MB 4.1 MB/s eta 0:00:00\n",
      "Collecting lxml\n",
      "  Downloading lxml-4.9.2-cp310-cp310-win_amd64.whl (3.8 MB)\n",
      "     ---------------------------------------- 3.8/3.8 MB 4.2 MB/s eta 0:00:00\n",
      "Collecting PyQt5-Qt5>=5.15.0\n",
      "  Downloading PyQt5_Qt5-5.15.2-py3-none-win_amd64.whl (50.1 MB)\n",
      "     ---------------------------------------- 50.1/50.1 MB 3.5 MB/s eta 0:00:00\n",
      "Collecting PyQt5-sip<13,>=12.11\n",
      "  Downloading PyQt5_sip-12.11.0-cp310-cp310-win_amd64.whl (78 kB)\n",
      "     ---------------------------------------- 78.3/78.3 kB 4.5 MB/s eta 0:00:00\n",
      "Installing collected packages: PyQt5-Qt5, PyQt5-sip, lxml, pyqt5\n",
      "Successfully installed PyQt5-Qt5-5.15.2 PyQt5-sip-12.11.0 lxml-4.9.2 pyqt5-5.15.7\n"
     ]
    }
   ],
   "source": [
    "!pip install --upgrade pyqt5 lxml"
   ]
  },
  {
   "cell_type": "code",
   "execution_count": 12,
   "id": "d1bb5ec8",
   "metadata": {},
   "outputs": [
    {
     "name": "stdout",
     "output_type": "stream",
     "text": [
      "Package           Version\n",
      "----------------- --------\n",
      "asttokens         2.2.1\n",
      "backcall          0.2.0\n",
      "colorama          0.4.6\n",
      "comm              0.1.2\n",
      "debugpy           1.6.4\n",
      "decorator         5.1.1\n",
      "entrypoints       0.4\n",
      "executing         1.2.0\n",
      "ipykernel         6.19.4\n",
      "ipython           8.7.0\n",
      "jedi              0.18.2\n",
      "jupyter_client    7.4.8\n",
      "jupyter_core      5.1.2\n",
      "lxml              4.9.2\n",
      "matplotlib-inline 0.1.6\n",
      "nest-asyncio      1.5.6\n",
      "numpy             1.24.1\n",
      "opencv-python     4.7.0.68\n",
      "packaging         22.0\n",
      "parso             0.8.3\n",
      "pickleshare       0.7.5\n",
      "pip               22.3.1\n",
      "platformdirs      2.6.2\n",
      "prompt-toolkit    3.0.36\n",
      "psutil            5.9.4\n",
      "pure-eval         0.2.2\n",
      "Pygments          2.14.0\n",
      "PyQt5             5.15.7\n",
      "PyQt5-Qt5         5.15.2\n",
      "PyQt5-sip         12.11.0\n",
      "python-dateutil   2.8.2\n",
      "pywin32           305\n",
      "pyzmq             24.0.1\n",
      "setuptools        57.4.0\n",
      "six               1.16.0\n",
      "stack-data        0.6.2\n",
      "tornado           6.2\n",
      "traitlets         5.8.0\n",
      "wcwidth           0.2.5\n"
     ]
    }
   ],
   "source": [
    "!pip list"
   ]
  },
  {
   "cell_type": "code",
   "execution_count": 13,
   "id": "ee5666b8",
   "metadata": {},
   "outputs": [],
   "source": [
    "LABELIMG_PATH = os.path.join('Tensorflow', 'LabelImg')"
   ]
  },
  {
   "cell_type": "markdown",
   "id": "b8f2fee5",
   "metadata": {},
   "source": [
    "https://github.com/heartexlabs/labelImg : this is the link of the Label Image github repository. So, we need to clone that in our LabelImg folder. The repo contains all the dependencies for the app. The following steps for installing the LabelImage are given by their website itself.    "
   ]
  },
  {
   "cell_type": "code",
   "execution_count": 14,
   "id": "0355c40c",
   "metadata": {},
   "outputs": [
    {
     "name": "stderr",
     "output_type": "stream",
     "text": [
      "Cloning into 'Tensorflow\\LabelImg'...\n"
     ]
    }
   ],
   "source": [
    "if not os.path.exists(LABELIMG_PATH):\n",
    "    !mkdir {LABELIMG_PATH}\n",
    "    !git clone https://github.com/heartexlabs/labelImg {LABELIMG_PATH}"
   ]
  },
  {
   "cell_type": "code",
   "execution_count": 15,
   "id": "0df22c0a",
   "metadata": {},
   "outputs": [],
   "source": [
    "!cd {LABELIMG_PATH} && pyrcc5 -o libs/resources.py resources.qrc"
   ]
  },
  {
   "cell_type": "code",
   "execution_count": 16,
   "id": "14a9149f",
   "metadata": {},
   "outputs": [
    {
     "name": "stdout",
     "output_type": "stream",
     "text": [
      "Image:E:\\Tensorflow Object Detection\\TFOD Course\\Tensorflow\\workspace\\images\\collectedimages\\apple\\Image_1 (2).jpg -> Annotation:E:/Tensorflow Object Detection/TFOD Course/Tensorflow/workspace/images/collectedimages/apple\\Image_1 (2).xml\n",
      "Image:E:\\Tensorflow Object Detection\\TFOD Course\\Tensorflow\\workspace\\images\\collectedimages\\apple\\Image_1.jpg -> Annotation:E:/Tensorflow Object Detection/TFOD Course/Tensorflow/workspace/images/collectedimages/apple\\Image_1.xml\n",
      "Image:E:\\Tensorflow Object Detection\\TFOD Course\\Tensorflow\\workspace\\images\\collectedimages\\apple\\Image_2.jpg -> Annotation:E:/Tensorflow Object Detection/TFOD Course/Tensorflow/workspace/images/collectedimages/apple\\Image_2.xml\n",
      "Image:E:\\Tensorflow Object Detection\\TFOD Course\\Tensorflow\\workspace\\images\\collectedimages\\apple\\Image_3.jpg -> Annotation:E:/Tensorflow Object Detection/TFOD Course/Tensorflow/workspace/images/collectedimages/apple\\Image_3.xml\n",
      "Image:E:\\Tensorflow Object Detection\\TFOD Course\\Tensorflow\\workspace\\images\\collectedimages\\apple\\Image_7.jpg -> Annotation:E:/Tensorflow Object Detection/TFOD Course/Tensorflow/workspace/images/collectedimages/apple\\Image_7.xml\n",
      "Image:E:\\Tensorflow Object Detection\\TFOD Course\\Tensorflow\\workspace\\images\\collectedimages\\apple\\Image_25.jpeg -> Annotation:E:/Tensorflow Object Detection/TFOD Course/Tensorflow/workspace/images/collectedimages/apple\\Image_25.xml\n",
      "Image:E:\\Tensorflow Object Detection\\TFOD Course\\Tensorflow\\workspace\\images\\collectedimages\\apple\\Image_33.jpg -> Annotation:E:/Tensorflow Object Detection/TFOD Course/Tensorflow/workspace/images/collectedimages/apple\\Image_33.xml\n",
      "Image:E:\\Tensorflow Object Detection\\TFOD Course\\Tensorflow\\workspace\\images\\collectedimages\\apple\\Image_63.jpg -> Annotation:E:/Tensorflow Object Detection/TFOD Course/Tensorflow/workspace/images/collectedimages/apple\\Image_63.xml\n",
      "Image:E:\\Tensorflow Object Detection\\TFOD Course\\Tensorflow\\workspace\\images\\collectedimages\\apple\\Image_169.jpeg -> Annotation:E:/Tensorflow Object Detection/TFOD Course/Tensorflow/workspace/images/collectedimages/apple\\Image_169.xml\n",
      "Image:E:\\Tensorflow Object Detection\\TFOD Course\\Tensorflow\\workspace\\images\\collectedimages\\apple\\Image_342.jpg -> Annotation:E:/Tensorflow Object Detection/TFOD Course/Tensorflow/workspace/images/collectedimages/apple\\Image_342.xml\n",
      "Image:E:\\Tensorflow Object Detection\\TFOD Course\\Tensorflow\\workspace\\images\\collectedimages\\banana\\Image_2.jpg -> Annotation:E:/Tensorflow Object Detection/TFOD Course/Tensorflow/workspace/images/collectedimages/banana\\Image_2.xml\n",
      "Image:E:\\Tensorflow Object Detection\\TFOD Course\\Tensorflow\\workspace\\images\\collectedimages\\banana\\Image_2.jpg -> Annotation:E:/Tensorflow Object Detection/TFOD Course/Tensorflow/workspace/images/collectedimages/banana\\Image_2.xml\n",
      "Image:E:\\Tensorflow Object Detection\\TFOD Course\\Tensorflow\\workspace\\images\\collectedimages\\banana\\Image_4.jpg -> Annotation:E:/Tensorflow Object Detection/TFOD Course/Tensorflow/workspace/images/collectedimages/banana\\Image_4.xml\n",
      "Image:E:\\Tensorflow Object Detection\\TFOD Course\\Tensorflow\\workspace\\images\\collectedimages\\banana\\Image_4.jpg -> Annotation:E:/Tensorflow Object Detection/TFOD Course/Tensorflow/workspace/images/collectedimages/banana\\Image_4.xml\n",
      "Image:E:\\Tensorflow Object Detection\\TFOD Course\\Tensorflow\\workspace\\images\\collectedimages\\banana\\Image_4.jpg -> Annotation:E:/Tensorflow Object Detection/TFOD Course/Tensorflow/workspace/images/collectedimages/banana\\Image_4.xml\n",
      "Image:E:\\Tensorflow Object Detection\\TFOD Course\\Tensorflow\\workspace\\images\\collectedimages\\banana\\Image_5.jpg -> Annotation:E:/Tensorflow Object Detection/TFOD Course/Tensorflow/workspace/images/collectedimages/banana\\Image_5.xml\n",
      "Image:E:\\Tensorflow Object Detection\\TFOD Course\\Tensorflow\\workspace\\images\\collectedimages\\banana\\Image_12.jpg -> Annotation:E:/Tensorflow Object Detection/TFOD Course/Tensorflow/workspace/images/collectedimages/banana\\Image_12.xml\n",
      "Image:E:\\Tensorflow Object Detection\\TFOD Course\\Tensorflow\\workspace\\images\\collectedimages\\banana\\Image_41.jpg -> Annotation:E:/Tensorflow Object Detection/TFOD Course/Tensorflow/workspace/images/collectedimages/banana\\Image_41.xml\n",
      "Image:E:\\Tensorflow Object Detection\\TFOD Course\\Tensorflow\\workspace\\images\\collectedimages\\banana\\Image_82.jpg -> Annotation:E:/Tensorflow Object Detection/TFOD Course/Tensorflow/workspace/images/collectedimages/banana\\Image_82.xml\n",
      "Image:E:\\Tensorflow Object Detection\\TFOD Course\\Tensorflow\\workspace\\images\\collectedimages\\banana\\Image_84.jpg -> Annotation:E:/Tensorflow Object Detection/TFOD Course/Tensorflow/workspace/images/collectedimages/banana\\Image_84.xml\n",
      "Cancel creation.\n",
      "Image:E:\\Tensorflow Object Detection\\TFOD Course\\Tensorflow\\workspace\\images\\collectedimages\\banana\\Image_121.jpg -> Annotation:E:/Tensorflow Object Detection/TFOD Course/Tensorflow/workspace/images/collectedimages/banana\\Image_121.xml\n",
      "Image:E:\\Tensorflow Object Detection\\TFOD Course\\Tensorflow\\workspace\\images\\collectedimages\\banana\\Image_196.jpg -> Annotation:E:/Tensorflow Object Detection/TFOD Course/Tensorflow/workspace/images/collectedimages/banana\\Image_196.xml\n",
      "Image:E:\\Tensorflow Object Detection\\TFOD Course\\Tensorflow\\workspace\\images\\collectedimages\\banana\\s2w0jn.jpg -> Annotation:E:/Tensorflow Object Detection/TFOD Course/Tensorflow/workspace/images/collectedimages/banana\\s2w0jn.xml\n",
      "Image:E:\\Tensorflow Object Detection\\TFOD Course\\Tensorflow\\workspace\\images\\collectedimages\\orange\\Image_3.jpg -> Annotation:E:/Tensorflow Object Detection/TFOD Course/Tensorflow/workspace/images/collectedimages/orange\\Image_3.xml\n",
      "Image:E:\\Tensorflow Object Detection\\TFOD Course\\Tensorflow\\workspace\\images\\collectedimages\\orange\\Image_15.jpg -> Annotation:E:/Tensorflow Object Detection/TFOD Course/Tensorflow/workspace/images/collectedimages/orange\\Image_15.xml\n",
      "Image:E:\\Tensorflow Object Detection\\TFOD Course\\Tensorflow\\workspace\\images\\collectedimages\\orange\\Image_21.jpg -> Annotation:E:/Tensorflow Object Detection/TFOD Course/Tensorflow/workspace/images/collectedimages/orange\\Image_21.xml\n",
      "Image:E:\\Tensorflow Object Detection\\TFOD Course\\Tensorflow\\workspace\\images\\collectedimages\\orange\\Image_25.jpg -> Annotation:E:/Tensorflow Object Detection/TFOD Course/Tensorflow/workspace/images/collectedimages/orange\\Image_25.xml\n",
      "Image:E:\\Tensorflow Object Detection\\TFOD Course\\Tensorflow\\workspace\\images\\collectedimages\\orange\\Image_31.jpg -> Annotation:E:/Tensorflow Object Detection/TFOD Course/Tensorflow/workspace/images/collectedimages/orange\\Image_31.xml\n",
      "Cancel creation.\n",
      "Image:E:\\Tensorflow Object Detection\\TFOD Course\\Tensorflow\\workspace\\images\\collectedimages\\orange\\Image_59.jpg -> Annotation:E:/Tensorflow Object Detection/TFOD Course/Tensorflow/workspace/images/collectedimages/orange\\Image_59.xml\n",
      "Image:E:\\Tensorflow Object Detection\\TFOD Course\\Tensorflow\\workspace\\images\\collectedimages\\orange\\Image_73.jpg -> Annotation:E:/Tensorflow Object Detection/TFOD Course/Tensorflow/workspace/images/collectedimages/orange\\Image_73.xml\n",
      "Image:E:\\Tensorflow Object Detection\\TFOD Course\\Tensorflow\\workspace\\images\\collectedimages\\orange\\Image_180.jpeg -> Annotation:E:/Tensorflow Object Detection/TFOD Course/Tensorflow/workspace/images/collectedimages/orange\\Image_180.xml\n",
      "Image:E:\\Tensorflow Object Detection\\TFOD Course\\Tensorflow\\workspace\\images\\collectedimages\\orange\\orange-juice-with-juicer-(hopper)-(7)-1-188534.jpg -> Annotation:E:/Tensorflow Object Detection/TFOD Course/Tensorflow/workspace/images/collectedimages/orange\\orange-juice-with-juicer-(hopper)-(7)-1-188534.xml\n",
      "Cancel creation.\n",
      "Image:E:\\Tensorflow Object Detection\\TFOD Course\\Tensorflow\\workspace\\images\\collectedimages\\orange\\oranges-in-bowl-and-plate-close-up-ASF004403.jpg -> Annotation:E:/Tensorflow Object Detection/TFOD Course/Tensorflow/workspace/images/collectedimages/orange\\oranges-in-bowl-and-plate-close-up-ASF004403.xml\n",
      "Image:E:\\Tensorflow Object Detection\\TFOD Course\\Tensorflow\\workspace\\images\\collectedimages\\orange\\oranges-in-bowl-and-plate-close-up-ASF004403.jpg -> Annotation:E:/Tensorflow Object Detection/TFOD Course/Tensorflow/workspace/images/collectedimages/orange\\oranges-in-bowl-and-plate-close-up-ASF004403.xml\n"
     ]
    },
    {
     "name": "stderr",
     "output_type": "stream",
     "text": [
      "qt.gui.icc: fromIccProfile: invalid tag offset alignment\n",
      "qt.gui.icc: fromIccProfile: invalid tag offset alignment\n"
     ]
    }
   ],
   "source": [
    "# the actual app will open up with this:\n",
    "\n",
    "!cd {LABELIMG_PATH} && python labelImg.py"
   ]
  }
 ],
 "metadata": {
  "kernelspec": {
   "display_name": "tfod",
   "language": "python",
   "name": "tfod"
  },
  "language_info": {
   "codemirror_mode": {
    "name": "ipython",
    "version": 3
   },
   "file_extension": ".py",
   "mimetype": "text/x-python",
   "name": "python",
   "nbconvert_exporter": "python",
   "pygments_lexer": "ipython3",
   "version": "3.10.0"
  }
 },
 "nbformat": 4,
 "nbformat_minor": 5
}
